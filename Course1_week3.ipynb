{
 "cells": [
  {
   "cell_type": "code",
   "execution_count": 13,
   "metadata": {
    "scrolled": true
   },
   "outputs": [],
   "source": [
    "import numpy as np\n",
    "from math import sin, exp\n",
    "from matplotlib import pyplot\n",
    "from scipy import linalg, optimize"
   ]
  },
  {
   "cell_type": "markdown",
   "metadata": {},
   "source": [
    "# Week 3"
   ]
  },
  {
   "cell_type": "markdown",
   "metadata": {},
   "source": [
    "## Task 1"
   ]
  },
  {
   "cell_type": "code",
   "execution_count": 15,
   "metadata": {},
   "outputs": [],
   "source": [
    "def f(x):\n",
    "    return sin(x / 5) * exp(x / 10) + 5 * exp(-x / 2)"
   ]
  },
  {
   "cell_type": "code",
   "execution_count": 16,
   "metadata": {
    "scrolled": true
   },
   "outputs": [
    {
     "data": {
      "text/plain": [
       "[<matplotlib.lines.Line2D at 0x1f3d7002898>]"
      ]
     },
     "execution_count": 16,
     "metadata": {},
     "output_type": "execute_result"
    },
    {
     "data": {
      "image/png": "[encoded data removed]",
      "text/plain": [
       "<Figure size 432x288 with 1 Axes>"
      ]
     },
     "metadata": {
      "needs_background": "light"
     },
     "output_type": "display_data"
    }
   ],
   "source": [
    "x = np.arange(1, 30.5, 0.5)\n",
    "y = [f(x) for x in x]\n",
    "pyplot.plot(x, y)"
   ]
  },
  {
   "cell_type": "code",
   "execution_count": 20,
   "metadata": {},
   "outputs": [
    {
     "name": "stdout",
     "output_type": "stream",
     "text": [
      "min from x = 8\n"
     ]
    },
    {
     "data": {
      "text/plain": [
       "      fun: 1.7452682903319738\n",
       " hess_inv: array([[6.02986592]])\n",
       "      jac: array([4.47034836e-08])\n",
       "  message: 'Optimization terminated successfully.'\n",
       "     nfev: 27\n",
       "      nit: 5\n",
       "     njev: 9\n",
       "   status: 0\n",
       "  success: True\n",
       "        x: array([4.13628883])"
      ]
     },
     "execution_count": 20,
     "metadata": {},
     "output_type": "execute_result"
    }
   ],
   "source": [
    "min_from_8 = sc.optimize.minimize(f, 8)\n",
    "print(\"min from x = 8\")\n",
    "min_from_8"
   ]
  },
  {
   "cell_type": "code",
   "execution_count": 29,
   "metadata": {},
   "outputs": [
    {
     "name": "stdout",
     "output_type": "stream",
     "text": [
      "      fun: 1.7452682903447336\n",
      " hess_inv: array([[5.98752645]])\n",
      "      jac: array([-2.04145908e-06])\n",
      "  message: 'Optimization terminated successfully.'\n",
      "     nfev: 21\n",
      "      nit: 6\n",
      "     njev: 7\n",
      "   status: 0\n",
      "  success: True\n",
      "        x: array([4.13627628])\n",
      "__________________________________\n",
      "min from x = 2:  1.75\n"
     ]
    }
   ],
   "source": [
    "min_from_2_bfgs = sc.optimize.minimize(f, 2, method='BFGS')\n",
    "print(min_from_2_bfgs)\n",
    "print(\"__________________________________\")\n",
    "min_from_2_bfgs = round(min_from_2_bfgs.fun,2)\n",
    "print(\"min from x = 2: \", min_from_2_bfgs)\n"
   ]
  },
  {
   "cell_type": "code",
   "execution_count": 30,
   "metadata": {},
   "outputs": [
    {
     "name": "stdout",
     "output_type": "stream",
     "text": [
      "      fun: -11.898894665981313\n",
      " hess_inv: array([[1.67936744]])\n",
      "      jac: array([0.])\n",
      "  message: 'Optimization terminated successfully.'\n",
      "     nfev: 21\n",
      "      nit: 6\n",
      "     njev: 7\n",
      "   status: 0\n",
      "  success: True\n",
      "        x: array([25.88019321])\n",
      "__________________________________\n",
      "min from x = 30:  -11.9\n"
     ]
    }
   ],
   "source": [
    "min_from_30_bfgs = sc.optimize.minimize(f, 30, method='BFGS')\n",
    "print(min_from_30_bfgs)\n",
    "print(\"__________________________________\")\n",
    "min_from_30_bfgs = round(min_from_30_bfgs.fun,2)\n",
    "print(\"min from x = 30: \", min_from_30_bfgs)"
   ]
  },
  {
   "cell_type": "code",
   "execution_count": 32,
   "metadata": {},
   "outputs": [],
   "source": [
    "answers_list = []\n",
    "answers_list.append(str(min_from_2_bfgs))\n",
    "answers_list.append(str(min_from_30_bfgs))\n",
    "\n",
    "with open('D:/booster_mds_files/MIPT_YANDEX_Part1/week3_task1.txt', 'w') as output_file:\n",
    "    output_file.write(' '.join(answers_list))"
   ]
  },
  {
   "cell_type": "markdown",
   "metadata": {},
   "source": [
    "## Task 2"
   ]
  },
  {
   "cell_type": "code",
   "execution_count": 43,
   "metadata": {},
   "outputs": [
    {
     "name": "stdout",
     "output_type": "stream",
     "text": [
      "     fun: -11.898894665981322\n",
      "     jac: array([1.77635684e-07])\n",
      " message: 'Optimization terminated successfully.'\n",
      "    nfev: 83\n",
      "     nit: 4\n",
      " success: True\n",
      "       x: array([25.88019304])\n",
      "__________________________________\n",
      "global min:  -11.9\n"
     ]
    }
   ],
   "source": [
    "bounds_tuple = (1,30)\n",
    "global_min = sc.optimize.differential_evolution(f, bounds=[bounds_tuple])\n",
    "print(global_min)\n",
    "print(\"__________________________________\")\n",
    "global_min = round(global_min.fun,2)\n",
    "print(\"global min: \", global_min)"
   ]
  },
  {
   "cell_type": "code",
   "execution_count": 44,
   "metadata": {},
   "outputs": [],
   "source": [
    "answers_list = []\n",
    "answers_list.append(str(global_min))\n",
    "\n",
    "with open('D:/booster_mds_files/MIPT_YANDEX_Part1/week3_task2.txt', 'w') as output_file:\n",
    "    output_file.write(' '.join(answers_list))"
   ]
  },
  {
   "cell_type": "markdown",
   "metadata": {},
   "source": [
    "## Task 3"
   ]
  },
  {
   "cell_type": "code",
   "execution_count": 45,
   "metadata": {},
   "outputs": [],
   "source": [
    "def h(x):\n",
    "    return int(f(x))"
   ]
  },
  {
   "cell_type": "code",
   "execution_count": 46,
   "metadata": {},
   "outputs": [
    {
     "data": {
      "text/plain": [
       "[<matplotlib.lines.Line2D at 0x1f3d70e8470>]"
      ]
     },
     "execution_count": 46,
     "metadata": {},
     "output_type": "execute_result"
    },
    {
     "data": {
      "image/png": "[encoded data removed]",
      "text/plain": [
       "<Figure size 432x288 with 1 Axes>"
      ]
     },
     "metadata": {
      "needs_background": "light"
     },
     "output_type": "display_data"
    }
   ],
   "source": [
    "x = np.arange(1, 30.5, 0.5)\n",
    "y = [h(x) for x in x]\n",
    "pyplot.plot(x, y)"
   ]
  },
  {
   "cell_type": "code",
   "execution_count": 47,
   "metadata": {},
   "outputs": [
    {
     "name": "stdout",
     "output_type": "stream",
     "text": [
      "      fun: -5\n",
      " hess_inv: array([[1]])\n",
      "      jac: array([0.])\n",
      "  message: 'Optimization terminated successfully.'\n",
      "     nfev: 3\n",
      "      nit: 0\n",
      "     njev: 1\n",
      "   status: 0\n",
      "  success: True\n",
      "        x: array([30.])\n",
      "__________________________________\n",
      "min h(x) from x = 30:  -5\n"
     ]
    }
   ],
   "source": [
    "min_h_from_30_bfgs = sc.optimize.minimize(h, 30, method='BFGS')\n",
    "print(min_h_from_30_bfgs)\n",
    "print(\"__________________________________\")\n",
    "min_h_from_30_bfgs = min_h_from_30_bfgs.fun\n",
    "print(\"min h(x) from x = 30: \", min_h_from_30_bfgs)"
   ]
  },
  {
   "cell_type": "code",
   "execution_count": 48,
   "metadata": {},
   "outputs": [
    {
     "name": "stdout",
     "output_type": "stream",
     "text": [
      "     fun: -11.0\n",
      " message: 'Optimization terminated successfully.'\n",
      "    nfev: 92\n",
      "     nit: 5\n",
      " success: True\n",
      "       x: array([24.77319509])\n",
      "__________________________________\n",
      "global min h(x):  -11.0\n"
     ]
    }
   ],
   "source": [
    "global_min_h = sc.optimize.differential_evolution(h,[bounds_tuple])\n",
    "print(global_min_h)\n",
    "print(\"__________________________________\")\n",
    "global_min_h = global_min_h.fun\n",
    "print(\"global min h(x): \", global_min_h)"
   ]
  },
  {
   "cell_type": "code",
   "execution_count": 49,
   "metadata": {},
   "outputs": [],
   "source": [
    "answers_list = []\n",
    "answers_list.append(str(min_h_from_30_bfgs))\n",
    "answers_list.append(str(global_min_h))\n",
    "\n",
    "with open('D:/booster_mds_files/MIPT_YANDEX_Part1/week3_task3.txt', 'w') as output_file:\n",
    "    output_file.write(' '.join(answers_list))"
   ]
  },
  {
   "cell_type": "code",
   "execution_count": null,
   "metadata": {},
   "outputs": [],
   "source": []
  }
 ],
 "metadata": {
  "kernelspec": {
   "display_name": "Python 3",
   "language": "python",
   "name": "python3"
  },
  "language_info": {
   "codemirror_mode": {
    "name": "ipython",
    "version": 3
   },
   "file_extension": ".py",
   "mimetype": "text/x-python",
   "name": "python",
   "nbconvert_exporter": "python",
   "pygments_lexer": "ipython3",
   "version": "3.7.3"
  }
 },
 "nbformat": 4,
 "nbformat_minor": 2
}
