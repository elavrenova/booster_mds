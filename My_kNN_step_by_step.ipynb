{
 "cells": [
  {
   "cell_type": "code",
   "execution_count": 2,
   "metadata": {},
   "outputs": [],
   "source": [
    "import math\n",
    "import numpy as np\n",
    "from sklearn import datasets, model_selection, neighbors, metrics\n",
    "import operator\n",
    "from scipy import sparse\n",
    "from collections import Counter\n",
    "from matplotlib import pylab"
   ]
  },
  {
   "cell_type": "code",
   "execution_count": 3,
   "metadata": {},
   "outputs": [],
   "source": [
    "def get_Euclidian_distance(a_data, b_data):\n",
    "    pairs_of_data = zip(a_data, b_data)\n",
    "    sum_of_dist = np.sum([pow(a-b, 2) for (a,b) in pairs_of_data])\n",
    "    return math.sqrt(sum_of_dist)"
   ]
  },
  {
   "cell_type": "code",
   "execution_count": 4,
   "metadata": {},
   "outputs": [
    {
     "name": "stdout",
     "output_type": "stream",
     "text": [
      "1.4142135623730951\n"
     ]
    }
   ],
   "source": [
    "a_data = [2, 2]\n",
    "b_data = [1, 1]\n",
    "\n",
    "print(get_Euclidian_distance(a_data, b_data))"
   ]
  },
  {
   "cell_type": "code",
   "execution_count": 5,
   "metadata": {},
   "outputs": [],
   "source": [
    "#вычисляем расстояния"
   ]
  },
  {
   "cell_type": "code",
   "execution_count": 6,
   "metadata": {},
   "outputs": [],
   "source": [
    "def get_neighbours(test_point, training_set):\n",
    "    distances_to_neighbours = [_get_distance(train = train_point, test = test_point) for train_point in training_set]\n",
    "    return distances_to_neighbours\n",
    "    \n",
    "def _get_distance(train, test):\n",
    "    dist = get_Euclidian_distance(train, test)\n",
    "    return (train, dist)"
   ]
  },
  {
   "cell_type": "code",
   "execution_count": 7,
   "metadata": {},
   "outputs": [
    {
     "name": "stdout",
     "output_type": "stream",
     "text": [
      "[([2, 2, 2, 'a'], 5.196152422706632), ([4, 4, 4, 'b'], 1.7320508075688772)]\n"
     ]
    }
   ],
   "source": [
    "train_set = [[2, 2, 2, 'a'], [4, 4, 4, 'b']]\n",
    "test_point = [5, 5, 5]\n",
    "result = get_neighbours(test_point, train_set)\n",
    "print(result)"
   ]
  },
  {
   "cell_type": "code",
   "execution_count": 8,
   "metadata": {},
   "outputs": [],
   "source": [
    "#выбираем ближайших соседей"
   ]
  },
  {
   "cell_type": "code",
   "execution_count": 9,
   "metadata": {},
   "outputs": [],
   "source": [
    "def closest_k_neighbours(test_point, train_set, k):\n",
    "    distances_to_neighbours = get_neighbours(test_point, train_set)\n",
    "    res = sorted(distances_to_neighbours, key=operator.itemgetter(1))\n",
    "    return(res[:k])"
   ]
  },
  {
   "cell_type": "code",
   "execution_count": 10,
   "metadata": {},
   "outputs": [
    {
     "name": "stdout",
     "output_type": "stream",
     "text": [
      "[([4, 4, 4, 'b'], 1.7320508075688772)]\n"
     ]
    }
   ],
   "source": [
    "result = closest_k_neighbours(test_point, train_set, k=1)\n",
    "print(result)"
   ]
  },
  {
   "cell_type": "code",
   "execution_count": 11,
   "metadata": {},
   "outputs": [],
   "source": [
    "#получаем классификацию"
   ]
  },
  {
   "cell_type": "code",
   "execution_count": 12,
   "metadata": {},
   "outputs": [],
   "source": [
    "def get_predictions(neighbours):\n",
    "    class_votes={}\n",
    "    print(neighbours)\n",
    "    for i in range(len(neighbours)):\n",
    "        vote = neighbours[i][0][-1]\n",
    "        if vote in class_votes.keys():\n",
    "            class_votes[vote] +=1\n",
    "        else:\n",
    "            class_votes[vote] = 1\n",
    "    result = sorted(class_votes, key=itemgetter(1), reverse=True)\n",
    "    return(result[0][0])"
   ]
  },
  {
   "cell_type": "code",
   "execution_count": 13,
   "metadata": {},
   "outputs": [],
   "source": [
    "def get_predictions_2(neighbours):\n",
    "    classes = [neighbour[0][-1] for neighbour in neighbours]\n",
    "    count_classes = Counter(classes)\n",
    "    return count_classes.most_common()[0][0] "
   ]
  },
  {
   "cell_type": "code",
   "execution_count": 14,
   "metadata": {},
   "outputs": [
    {
     "name": "stdout",
     "output_type": "stream",
     "text": [
      "prediction: b\n",
      "prediction: a\n"
     ]
    }
   ],
   "source": [
    "trainSet = [[2, 2, 2, 'a'], [4, 4, 4, 'b'], [3, 3, 3, 'b'], [0, 1, 0, 'a']]\n",
    "testSet = [[5, 5, 5], [1, 0, 1]]\n",
    "for i in testSet:\n",
    "    neighbs = closest_k_neighbours(i, trainSet, k=3)\n",
    "    result = get_predictions_2(neighbs)\n",
    "    print('prediction: '+ result)"
   ]
  },
  {
   "cell_type": "code",
   "execution_count": 15,
   "metadata": {},
   "outputs": [],
   "source": [
    "#выгружаем данные"
   ]
  },
  {
   "cell_type": "code",
   "execution_count": 51,
   "metadata": {},
   "outputs": [],
   "source": [
    "from sklearn.datasets import load_iris\n",
    "iris = load_iris()\n",
    "X_train, X_test, y_train, y_test = model_selection.train_test_split(iris.data, iris.target, test_size=0.3)"
   ]
  },
  {
   "cell_type": "code",
   "execution_count": 52,
   "metadata": {},
   "outputs": [],
   "source": [
    "#тестим sklearn"
   ]
  },
  {
   "cell_type": "code",
   "execution_count": 53,
   "metadata": {},
   "outputs": [
    {
     "data": {
      "text/plain": [
       "0.9777777777777777"
      ]
     },
     "execution_count": 53,
     "metadata": {},
     "output_type": "execute_result"
    }
   ],
   "source": [
    "sklearn_knn = neighbors.KNeighborsClassifier(n_neighbors=8)\n",
    "sklearn_knn.fit(X_train, y_train)\n",
    "sklearn_result = sklearn_knn.predict(X_test)\n",
    "metrics.accuracy_score(y_test, sklearn_result)"
   ]
  },
  {
   "cell_type": "code",
   "execution_count": 54,
   "metadata": {},
   "outputs": [],
   "source": [
    "#собираем собственный класс и тестируем его"
   ]
  },
  {
   "cell_type": "code",
   "execution_count": 55,
   "metadata": {},
   "outputs": [],
   "source": [
    "#Собираем в один класс:\n",
    "class my_knn:\n",
    "    def __init__(self, k):\n",
    "        self.k = k\n",
    "        \n",
    "    def fit(self, train_set):\n",
    "        self.train_set = train_set\n",
    "        \n",
    "    def predict(self, test_set):\n",
    "        test_results = []\n",
    "        for i in test_set:\n",
    "            neighbs = closest_k_neighbours(i, self.train_set, k=self.k)\n",
    "            result = get_predictions_2(neighbs)\n",
    "            test_results.append(result)\n",
    "        return test_results"
   ]
  },
  {
   "cell_type": "code",
   "execution_count": 56,
   "metadata": {},
   "outputs": [],
   "source": [
    "y = y_test.reshape((45, 1))\n",
    "train_set = np.append(X_test, y, axis=1)"
   ]
  },
  {
   "cell_type": "code",
   "execution_count": 57,
   "metadata": {},
   "outputs": [
    {
     "data": {
      "text/plain": [
       "<matplotlib.legend.Legend at 0x14e0ad3dc18>"
      ]
     },
     "execution_count": 57,
     "metadata": {},
     "output_type": "execute_result"
    },
    {
     "data": {
      "image/png": "[encoded data removed]",
      "text/plain": [
       "<Figure size 432x288 with 1 Axes>"
      ]
     },
     "metadata": {
      "needs_background": "light"
     },
     "output_type": "display_data"
    }
   ],
   "source": [
    "sklearn_results = []\n",
    "my_knn_results = []\n",
    "\n",
    "index_array = [i for i in range(1, 20, 1)]\n",
    "\n",
    "for i in index_array:\n",
    "    sklearn_knn = neighbors.KNeighborsClassifier(n_neighbors=i).fit(X_train, y_train)\n",
    "    sklearn_res = sklearn_knn.predict(X_test)\n",
    "    sklearn_acc = metrics.accuracy_score(y_test, sklearn_res)\n",
    "    sklearn_results.append(sklearn_acc)\n",
    "    \n",
    "    my_knn_cl = my_knn(i)\n",
    "    my_knn_cl.fit(train_set)\n",
    "    my_knn_res = my_knn_cl.predict(X_test)\n",
    "    my_knn_acc = metrics.accuracy_score(y_test, my_knn_res)\n",
    "    my_knn_results.append(my_knn_acc)\n",
    "\n",
    "pylab.grid(True)\n",
    "pylab.plot(index_array, sklearn_results, label='sklearn')\n",
    "pylab.plot(index_array, my_knn_results, label='my_knn') \n",
    "pylab.xlabel('k parameter')\n",
    "pylab.ylabel('accuracy')\n",
    "pylab.legend()"
   ]
  },
  {
   "cell_type": "code",
   "execution_count": null,
   "metadata": {},
   "outputs": [],
   "source": []
  },
  {
   "cell_type": "code",
   "execution_count": null,
   "metadata": {},
   "outputs": [],
   "source": []
  },
  {
   "cell_type": "code",
   "execution_count": null,
   "metadata": {},
   "outputs": [],
   "source": []
  },
  {
   "cell_type": "code",
   "execution_count": null,
   "metadata": {},
   "outputs": [],
   "source": []
  },
  {
   "cell_type": "code",
   "execution_count": null,
   "metadata": {},
   "outputs": [],
   "source": []
  },
  {
   "cell_type": "code",
   "execution_count": null,
   "metadata": {},
   "outputs": [],
   "source": []
  },
  {
   "cell_type": "code",
   "execution_count": null,
   "metadata": {},
   "outputs": [],
   "source": []
  }
 ],
 "metadata": {
  "kernelspec": {
   "display_name": "Python 3",
   "language": "python",
   "name": "python3"
  },
  "language_info": {
   "codemirror_mode": {
    "name": "ipython",
    "version": 3
   },
   "file_extension": ".py",
   "mimetype": "text/x-python",
   "name": "python",
   "nbconvert_exporter": "python",
   "pygments_lexer": "ipython3",
   "version": "3.7.3"
  }
 },
 "nbformat": 4,
 "nbformat_minor": 2
}
